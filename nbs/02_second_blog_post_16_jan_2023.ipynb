{
 "cells": [
  {
   "cell_type": "markdown",
   "id": "908dc186",
   "metadata": {},
   "source": [
    "# 16 jan 2023\n",
    "\n",
    "> Trying to use nbdev for blog posts"
   ]
  },
  {
   "cell_type": "code",
   "execution_count": null,
   "id": "09f343db",
   "metadata": {},
   "outputs": [],
   "source": [
    "#| default_exp second_blog_post"
   ]
  },
  {
   "cell_type": "code",
   "execution_count": null,
   "id": "a849d00c",
   "metadata": {},
   "outputs": [],
   "source": [
    "#| hide\n",
    "from nbdev.showdoc import *"
   ]
  },
  {
   "cell_type": "code",
   "execution_count": null,
   "id": "cfafe349",
   "metadata": {},
   "outputs": [],
   "source": [
    "#| hide\n",
    "import nbdev; nbdev.nbdev_export()"
   ]
  },
  {
   "cell_type": "markdown",
   "id": "adaa77c2",
   "metadata": {},
   "source": [
    "# nbdev needs permissions for actions under github repo settings\n",
    "\n",
    "Be careful to allow all permissions read and write for the github bot to automatically create the gh-pages branch and everything which is needed to render the nbdev repo!"
   ]
  },
  {
   "cell_type": "code",
   "execution_count": null,
   "id": "b843c50b",
   "metadata": {},
   "outputs": [],
   "source": []
  }
 ],
 "metadata": {
  "kernelspec": {
   "display_name": "fastai",
   "language": "python",
   "name": "fastai"
  }
 },
 "nbformat": 4,
 "nbformat_minor": 5
}
